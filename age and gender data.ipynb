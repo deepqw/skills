{
 "cells": [
  {
   "cell_type": "code",
   "execution_count": 40,
   "metadata": {
    "id": "u40xABHBxzaO"
   },
   "outputs": [],
   "source": [
    "import pandas as pd\n",
    "import torch\n",
    "import torchvision\n",
    "import os\n",
    "from tqdm import tqdm_notebook\n",
    "import zipfile as zf\n",
    "from torch.utils.data import DataLoader, Subset, Dataset, TensorDataset\n",
    "from torchvision.io import read_image\n",
    "from torchvision.transforms import v2\n",
    "from sklearn.model_selection import train_test_split\n",
    "import numpy as np"
   ]
  },
  {
   "cell_type": "code",
   "execution_count": 31,
   "metadata": {
    "id": "h7GJV1uSzHQ6"
   },
   "outputs": [],
   "source": [
    "files = zf.ZipFile('/content/drive/MyDrive/archive.zip','r')\n",
    "files.extractall()"
   ]
  },
  {
   "cell_type": "code",
   "execution_count": 32,
   "metadata": {
    "colab": {
     "base_uri": "https://localhost:8080/",
     "height": 424
    },
    "id": "zhbtLIvRzbmv",
    "outputId": "2466bf2b-0683-4cdb-d3ac-1331a61ae6bc"
   },
   "outputs": [
    {
     "data": {
      "text/html": [
       "\n",
       "  <div id=\"df-a236a5d9-ac51-4170-b071-96d9eaf48266\" class=\"colab-df-container\">\n",
       "    <div>\n",
       "<style scoped>\n",
       "    .dataframe tbody tr th:only-of-type {\n",
       "        vertical-align: middle;\n",
       "    }\n",
       "\n",
       "    .dataframe tbody tr th {\n",
       "        vertical-align: top;\n",
       "    }\n",
       "\n",
       "    .dataframe thead th {\n",
       "        text-align: right;\n",
       "    }\n",
       "</style>\n",
       "<table border=\"1\" class=\"dataframe\">\n",
       "  <thead>\n",
       "    <tr style=\"text-align: right;\">\n",
       "      <th></th>\n",
       "      <th>file_path</th>\n",
       "      <th>age</th>\n",
       "      <th>gender</th>\n",
       "    </tr>\n",
       "  </thead>\n",
       "  <tbody>\n",
       "    <tr>\n",
       "      <th>0</th>\n",
       "      <td>68_0_2_20170116193700812.jpg.chip.jpg</td>\n",
       "      <td>68</td>\n",
       "      <td>0</td>\n",
       "    </tr>\n",
       "    <tr>\n",
       "      <th>1</th>\n",
       "      <td>58_0_0_20170111171747508.jpg.chip.jpg</td>\n",
       "      <td>58</td>\n",
       "      <td>0</td>\n",
       "    </tr>\n",
       "    <tr>\n",
       "      <th>2</th>\n",
       "      <td>26_1_1_20170112211649085.jpg.chip.jpg</td>\n",
       "      <td>26</td>\n",
       "      <td>1</td>\n",
       "    </tr>\n",
       "    <tr>\n",
       "      <th>3</th>\n",
       "      <td>40_0_0_20170104210228028.jpg.chip.jpg</td>\n",
       "      <td>40</td>\n",
       "      <td>0</td>\n",
       "    </tr>\n",
       "    <tr>\n",
       "      <th>4</th>\n",
       "      <td>22_1_4_20170117193958245.jpg.chip.jpg</td>\n",
       "      <td>22</td>\n",
       "      <td>1</td>\n",
       "    </tr>\n",
       "    <tr>\n",
       "      <th>...</th>\n",
       "      <td>...</td>\n",
       "      <td>...</td>\n",
       "      <td>...</td>\n",
       "    </tr>\n",
       "    <tr>\n",
       "      <th>23703</th>\n",
       "      <td>37_1_0_20170117140027921.jpg.chip.jpg</td>\n",
       "      <td>37</td>\n",
       "      <td>1</td>\n",
       "    </tr>\n",
       "    <tr>\n",
       "      <th>23704</th>\n",
       "      <td>27_0_0_20170117120152773.jpg.chip.jpg</td>\n",
       "      <td>27</td>\n",
       "      <td>0</td>\n",
       "    </tr>\n",
       "    <tr>\n",
       "      <th>23705</th>\n",
       "      <td>4_1_4_20170109191223274.jpg.chip.jpg</td>\n",
       "      <td>4</td>\n",
       "      <td>1</td>\n",
       "    </tr>\n",
       "    <tr>\n",
       "      <th>23706</th>\n",
       "      <td>61_0_1_20170117193727094.jpg.chip.jpg</td>\n",
       "      <td>61</td>\n",
       "      <td>0</td>\n",
       "    </tr>\n",
       "    <tr>\n",
       "      <th>23707</th>\n",
       "      <td>11_0_2_20170103200847287.jpg.chip.jpg</td>\n",
       "      <td>11</td>\n",
       "      <td>0</td>\n",
       "    </tr>\n",
       "  </tbody>\n",
       "</table>\n",
       "<p>23708 rows × 3 columns</p>\n",
       "</div>\n",
       "    <div class=\"colab-df-buttons\">\n",
       "\n",
       "  <div class=\"colab-df-container\">\n",
       "    <button class=\"colab-df-convert\" onclick=\"convertToInteractive('df-a236a5d9-ac51-4170-b071-96d9eaf48266')\"\n",
       "            title=\"Convert this dataframe to an interactive table.\"\n",
       "            style=\"display:none;\">\n",
       "\n",
       "  <svg xmlns=\"http://www.w3.org/2000/svg\" height=\"24px\" viewBox=\"0 -960 960 960\">\n",
       "    <path d=\"M120-120v-720h720v720H120Zm60-500h600v-160H180v160Zm220 220h160v-160H400v160Zm0 220h160v-160H400v160ZM180-400h160v-160H180v160Zm440 0h160v-160H620v160ZM180-180h160v-160H180v160Zm440 0h160v-160H620v160Z\"/>\n",
       "  </svg>\n",
       "    </button>\n",
       "\n",
       "  <style>\n",
       "    .colab-df-container {\n",
       "      display:flex;\n",
       "      gap: 12px;\n",
       "    }\n",
       "\n",
       "    .colab-df-convert {\n",
       "      background-color: #E8F0FE;\n",
       "      border: none;\n",
       "      border-radius: 50%;\n",
       "      cursor: pointer;\n",
       "      display: none;\n",
       "      fill: #1967D2;\n",
       "      height: 32px;\n",
       "      padding: 0 0 0 0;\n",
       "      width: 32px;\n",
       "    }\n",
       "\n",
       "    .colab-df-convert:hover {\n",
       "      background-color: #E2EBFA;\n",
       "      box-shadow: 0px 1px 2px rgba(60, 64, 67, 0.3), 0px 1px 3px 1px rgba(60, 64, 67, 0.15);\n",
       "      fill: #174EA6;\n",
       "    }\n",
       "\n",
       "    .colab-df-buttons div {\n",
       "      margin-bottom: 4px;\n",
       "    }\n",
       "\n",
       "    [theme=dark] .colab-df-convert {\n",
       "      background-color: #3B4455;\n",
       "      fill: #D2E3FC;\n",
       "    }\n",
       "\n",
       "    [theme=dark] .colab-df-convert:hover {\n",
       "      background-color: #434B5C;\n",
       "      box-shadow: 0px 1px 3px 1px rgba(0, 0, 0, 0.15);\n",
       "      filter: drop-shadow(0px 1px 2px rgba(0, 0, 0, 0.3));\n",
       "      fill: #FFFFFF;\n",
       "    }\n",
       "  </style>\n",
       "\n",
       "    <script>\n",
       "      const buttonEl =\n",
       "        document.querySelector('#df-a236a5d9-ac51-4170-b071-96d9eaf48266 button.colab-df-convert');\n",
       "      buttonEl.style.display =\n",
       "        google.colab.kernel.accessAllowed ? 'block' : 'none';\n",
       "\n",
       "      async function convertToInteractive(key) {\n",
       "        const element = document.querySelector('#df-a236a5d9-ac51-4170-b071-96d9eaf48266');\n",
       "        const dataTable =\n",
       "          await google.colab.kernel.invokeFunction('convertToInteractive',\n",
       "                                                    [key], {});\n",
       "        if (!dataTable) return;\n",
       "\n",
       "        const docLinkHtml = 'Like what you see? Visit the ' +\n",
       "          '<a target=\"_blank\" href=https://colab.research.google.com/notebooks/data_table.ipynb>data table notebook</a>'\n",
       "          + ' to learn more about interactive tables.';\n",
       "        element.innerHTML = '';\n",
       "        dataTable['output_type'] = 'display_data';\n",
       "        await google.colab.output.renderOutput(dataTable, element);\n",
       "        const docLink = document.createElement('div');\n",
       "        docLink.innerHTML = docLinkHtml;\n",
       "        element.appendChild(docLink);\n",
       "      }\n",
       "    </script>\n",
       "  </div>\n",
       "\n",
       "\n",
       "<div id=\"df-dcaff71e-77aa-4d78-a18d-71926ecd86f6\">\n",
       "  <button class=\"colab-df-quickchart\" onclick=\"quickchart('df-dcaff71e-77aa-4d78-a18d-71926ecd86f6')\"\n",
       "            title=\"Suggest charts\"\n",
       "            style=\"display:none;\">\n",
       "\n",
       "<svg xmlns=\"http://www.w3.org/2000/svg\" height=\"24px\"viewBox=\"0 0 24 24\"\n",
       "     width=\"24px\">\n",
       "    <g>\n",
       "        <path d=\"M19 3H5c-1.1 0-2 .9-2 2v14c0 1.1.9 2 2 2h14c1.1 0 2-.9 2-2V5c0-1.1-.9-2-2-2zM9 17H7v-7h2v7zm4 0h-2V7h2v10zm4 0h-2v-4h2v4z\"/>\n",
       "    </g>\n",
       "</svg>\n",
       "  </button>\n",
       "\n",
       "<style>\n",
       "  .colab-df-quickchart {\n",
       "      --bg-color: #E8F0FE;\n",
       "      --fill-color: #1967D2;\n",
       "      --hover-bg-color: #E2EBFA;\n",
       "      --hover-fill-color: #174EA6;\n",
       "      --disabled-fill-color: #AAA;\n",
       "      --disabled-bg-color: #DDD;\n",
       "  }\n",
       "\n",
       "  [theme=dark] .colab-df-quickchart {\n",
       "      --bg-color: #3B4455;\n",
       "      --fill-color: #D2E3FC;\n",
       "      --hover-bg-color: #434B5C;\n",
       "      --hover-fill-color: #FFFFFF;\n",
       "      --disabled-bg-color: #3B4455;\n",
       "      --disabled-fill-color: #666;\n",
       "  }\n",
       "\n",
       "  .colab-df-quickchart {\n",
       "    background-color: var(--bg-color);\n",
       "    border: none;\n",
       "    border-radius: 50%;\n",
       "    cursor: pointer;\n",
       "    display: none;\n",
       "    fill: var(--fill-color);\n",
       "    height: 32px;\n",
       "    padding: 0;\n",
       "    width: 32px;\n",
       "  }\n",
       "\n",
       "  .colab-df-quickchart:hover {\n",
       "    background-color: var(--hover-bg-color);\n",
       "    box-shadow: 0 1px 2px rgba(60, 64, 67, 0.3), 0 1px 3px 1px rgba(60, 64, 67, 0.15);\n",
       "    fill: var(--button-hover-fill-color);\n",
       "  }\n",
       "\n",
       "  .colab-df-quickchart-complete:disabled,\n",
       "  .colab-df-quickchart-complete:disabled:hover {\n",
       "    background-color: var(--disabled-bg-color);\n",
       "    fill: var(--disabled-fill-color);\n",
       "    box-shadow: none;\n",
       "  }\n",
       "\n",
       "  .colab-df-spinner {\n",
       "    border: 2px solid var(--fill-color);\n",
       "    border-color: transparent;\n",
       "    border-bottom-color: var(--fill-color);\n",
       "    animation:\n",
       "      spin 1s steps(1) infinite;\n",
       "  }\n",
       "\n",
       "  @keyframes spin {\n",
       "    0% {\n",
       "      border-color: transparent;\n",
       "      border-bottom-color: var(--fill-color);\n",
       "      border-left-color: var(--fill-color);\n",
       "    }\n",
       "    20% {\n",
       "      border-color: transparent;\n",
       "      border-left-color: var(--fill-color);\n",
       "      border-top-color: var(--fill-color);\n",
       "    }\n",
       "    30% {\n",
       "      border-color: transparent;\n",
       "      border-left-color: var(--fill-color);\n",
       "      border-top-color: var(--fill-color);\n",
       "      border-right-color: var(--fill-color);\n",
       "    }\n",
       "    40% {\n",
       "      border-color: transparent;\n",
       "      border-right-color: var(--fill-color);\n",
       "      border-top-color: var(--fill-color);\n",
       "    }\n",
       "    60% {\n",
       "      border-color: transparent;\n",
       "      border-right-color: var(--fill-color);\n",
       "    }\n",
       "    80% {\n",
       "      border-color: transparent;\n",
       "      border-right-color: var(--fill-color);\n",
       "      border-bottom-color: var(--fill-color);\n",
       "    }\n",
       "    90% {\n",
       "      border-color: transparent;\n",
       "      border-bottom-color: var(--fill-color);\n",
       "    }\n",
       "  }\n",
       "</style>\n",
       "\n",
       "  <script>\n",
       "    async function quickchart(key) {\n",
       "      const quickchartButtonEl =\n",
       "        document.querySelector('#' + key + ' button');\n",
       "      quickchartButtonEl.disabled = true;  // To prevent multiple clicks.\n",
       "      quickchartButtonEl.classList.add('colab-df-spinner');\n",
       "      try {\n",
       "        const charts = await google.colab.kernel.invokeFunction(\n",
       "            'suggestCharts', [key], {});\n",
       "      } catch (error) {\n",
       "        console.error('Error during call to suggestCharts:', error);\n",
       "      }\n",
       "      quickchartButtonEl.classList.remove('colab-df-spinner');\n",
       "      quickchartButtonEl.classList.add('colab-df-quickchart-complete');\n",
       "    }\n",
       "    (() => {\n",
       "      let quickchartButtonEl =\n",
       "        document.querySelector('#df-dcaff71e-77aa-4d78-a18d-71926ecd86f6 button');\n",
       "      quickchartButtonEl.style.display =\n",
       "        google.colab.kernel.accessAllowed ? 'block' : 'none';\n",
       "    })();\n",
       "  </script>\n",
       "</div>\n",
       "    </div>\n",
       "  </div>\n"
      ],
      "text/plain": [
       "                                   file_path  age  gender\n",
       "0      68_0_2_20170116193700812.jpg.chip.jpg   68       0\n",
       "1      58_0_0_20170111171747508.jpg.chip.jpg   58       0\n",
       "2      26_1_1_20170112211649085.jpg.chip.jpg   26       1\n",
       "3      40_0_0_20170104210228028.jpg.chip.jpg   40       0\n",
       "4      22_1_4_20170117193958245.jpg.chip.jpg   22       1\n",
       "...                                      ...  ...     ...\n",
       "23703  37_1_0_20170117140027921.jpg.chip.jpg   37       1\n",
       "23704  27_0_0_20170117120152773.jpg.chip.jpg   27       0\n",
       "23705   4_1_4_20170109191223274.jpg.chip.jpg    4       1\n",
       "23706  61_0_1_20170117193727094.jpg.chip.jpg   61       0\n",
       "23707  11_0_2_20170103200847287.jpg.chip.jpg   11       0\n",
       "\n",
       "[23708 rows x 3 columns]"
      ]
     },
     "execution_count": 32,
     "metadata": {},
     "output_type": "execute_result"
    }
   ],
   "source": [
    "path = 'UTKFace/'\n",
    "data = pd.DataFrame({'file_path': [f for f in os.listdir(path) if os.path.isfile(os.path.join(path, f))]})\n",
    "data['age'] = data['file_path'].apply(lambda x: int(x.split('_')[0]))\n",
    "data['gender'] = data['file_path'].apply(lambda x: int(x.split('_')[1]))\n",
    "# data['ethnicity'] = data['file_path'].apply(lambda x:  int(x.split('_')[2]))\n",
    "data"
   ]
  },
  {
   "cell_type": "code",
   "execution_count": 33,
   "metadata": {
    "id": "gc6bXqhj0J9F"
   },
   "outputs": [],
   "source": [
    "class ImageDataset(Dataset):\n",
    "    def __init__(self, img_dir, transform=None, target_transform=None):\n",
    "        self.img_labels = pd.DataFrame(\n",
    "            {'file_path': [f for f in os.listdir(img_dir) if os.path.isfile(os.path.join(path, f))]})\n",
    "        self.img_labels['age'] = self.img_labels['file_path'].apply(lambda x: int(x.split('_')[0]))\n",
    "        self.img_labels['gender'] = self.img_labels['file_path'].apply(lambda x: int(x.split('_')[1]))\n",
    "        # self.img_labels['ethnicity'] = self.img_labels['file_path'].apply(lambda x:  int(x.split('_')[2]))\n",
    "        self.img_dir = img_dir\n",
    "        self.transform = transform\n",
    "        self.target_transform = target_transform\n",
    "\n",
    "    def __len__(self):\n",
    "        return len(self.img_labels)\n",
    "\n",
    "    def __getitem__(self, idx):\n",
    "        img_path = os.path.join(self.img_dir, self.img_labels.iloc[idx, 0])\n",
    "        image = read_image(img_path)\n",
    "        label_age = self.img_labels.iloc[idx, 1]\n",
    "        label_gender = self.img_labels.iloc[idx, 2]\n",
    "        # label_ethnicity = self.img_labels.iloc[idx, 3]\n",
    "        if self.transform:\n",
    "            image = self.transform(image)\n",
    "        if self.target_transform:\n",
    "            label_age = self.target_transform(label_age)\n",
    "            label_gender = self.target_transform(label_gender)\n",
    "        return image, label_age, label_gender"
   ]
  },
  {
   "cell_type": "code",
   "execution_count": 34,
   "metadata": {
    "id": "KYSa2yzT9u3u"
   },
   "outputs": [],
   "source": [
    "class Dataset(Dataset):\n",
    "    def __init__(self, paths, gender, age, dir_path = '', transform=None):\n",
    "        super().__init__()\n",
    "        self.paths = paths\n",
    "        self.gender = gender\n",
    "        self.age = age\n",
    "        self.dir_path = dir_path\n",
    "        self.transform = transform\n",
    "\n",
    "    def __len__(self):\n",
    "        return len(self.paths)\n",
    "\n",
    "    def __getitem__(self, ind):\n",
    "\n",
    "        img = read_image(self.dir_path+self.paths[ind])\n",
    "\n",
    "\n",
    "        img = self.transform(img / 255)\n",
    "\n",
    "\n",
    "\n",
    "        return img, self.gender[ind], self.age[ind]"
   ]
  },
  {
   "cell_type": "code",
   "execution_count": 35,
   "metadata": {
    "colab": {
     "base_uri": "https://localhost:8080/"
    },
    "id": "IREnTDZD-TMW",
    "outputId": "70709015-1769-46e3-9b51-57c1ab6210ea"
   },
   "outputs": [
    {
     "name": "stderr",
     "output_type": "stream",
     "text": [
      "/usr/local/lib/python3.10/dist-packages/torchvision/transforms/v2/_deprecated.py:43: UserWarning: The transform `ToTensor()` is deprecated and will be removed in a future release. Instead, please use `v2.Compose([v2.ToImage(), v2.ToDtype(torch.float32, scale=True)])`.\n",
      "  warnings.warn(\n"
     ]
    }
   ],
   "source": [
    "dataset1 = Dataset(\n",
    "    paths = data['file_path'].tolist(),\n",
    "    dir_path = 'UTKFace/',\n",
    "    gender = data['gender'].tolist(),\n",
    "    age = data['age'].tolist(),\n",
    "    transform=v2.Compose([\n",
    "        v2.Resize((200, 200)),\n",
    "        #v2.ToImage(),\n",
    "        v2.ToTensor(),\n",
    "        v2.ToDtype(torch.float, scale=True),\n",
    "        v2.Normalize(mean=[0.485, 0.456, 0.406], std=[0.229, 0.224, 0.225])\n",
    "    ])\n",
    ")"
   ]
  },
  {
   "cell_type": "code",
   "execution_count": 36,
   "metadata": {
    "colab": {
     "base_uri": "https://localhost:8080/"
    },
    "id": "ictyLN-EALYg",
    "outputId": "c0a78ae3-3908-464f-921d-8ae98b27014b"
   },
   "outputs": [
    {
     "name": "stderr",
     "output_type": "stream",
     "text": [
      "/usr/local/lib/python3.10/dist-packages/torchvision/transforms/functional.py:1603: UserWarning: The default value of the antialias parameter of all the resizing transforms (Resize(), RandomResizedCrop(), etc.) will change from None to True in v0.17, in order to be consistent across the PIL and Tensor backends. To suppress this warning, directly pass antialias=True (recommended, future default), antialias=None (current default, which means False for Tensors and True for PIL), or antialias=False (only works on Tensors - PIL will still use antialiasing). This also applies if you are using the inference transforms from the models weights: update the call to weights.transforms(antialias=True).\n",
      "  warnings.warn(\n"
     ]
    },
    {
     "data": {
      "text/plain": [
       "(tensor([[[-0.8164, -0.7993, -0.7822,  ..., -0.1999,  0.0741,  0.2453],\n",
       "          [-0.8164, -0.7993, -0.7822,  ..., -0.2513,  0.0056,  0.1597],\n",
       "          [-0.8164, -0.7993, -0.7822,  ..., -0.3027, -0.0801,  0.0569],\n",
       "          ...,\n",
       "          [-1.4843, -1.4843, -1.4843,  ..., -1.0390, -1.0390, -1.0390],\n",
       "          [-1.4672, -1.4672, -1.4843,  ..., -1.0390, -1.0390, -1.0390],\n",
       "          [-1.4672, -1.4672, -1.4672,  ..., -1.0390, -1.0390, -1.0390]],\n",
       " \n",
       "         [[-0.6527, -0.6352, -0.6176,  ..., -0.1450,  0.1352,  0.3102],\n",
       "          [-0.6527, -0.6352, -0.6176,  ..., -0.1975,  0.0651,  0.2227],\n",
       "          [-0.6527, -0.6352, -0.6176,  ..., -0.2850, -0.0574,  0.0826],\n",
       "          ...,\n",
       "          [-1.2304, -1.2304, -1.2304,  ..., -0.7752, -0.7752, -0.7752],\n",
       "          [-1.2129, -1.2129, -1.2304,  ..., -0.7752, -0.7752, -0.7752],\n",
       "          [-1.2129, -1.2129, -1.2129,  ..., -0.7752, -0.7752, -0.7752]],\n",
       " \n",
       "         [[-0.5495, -0.5321, -0.5147,  ..., -0.1312,  0.1651,  0.3393],\n",
       "          [-0.5495, -0.5321, -0.5147,  ..., -0.1835,  0.0953,  0.2522],\n",
       "          [-0.5495, -0.5321, -0.5147,  ..., -0.2707, -0.0441,  0.0953],\n",
       "          ...,\n",
       "          [-1.0201, -1.0201, -1.0201,  ..., -0.5670, -0.5670, -0.5670],\n",
       "          [-1.0027, -1.0027, -1.0201,  ..., -0.5670, -0.5670, -0.5670],\n",
       "          [-1.0027, -1.0027, -1.0027,  ..., -0.5670, -0.5670, -0.5670]]]),\n",
       " 0,\n",
       " 68)"
      ]
     },
     "execution_count": 36,
     "metadata": {},
     "output_type": "execute_result"
    }
   ],
   "source": [
    "dataset1[0]"
   ]
  },
  {
   "cell_type": "code",
   "execution_count": 37,
   "metadata": {
    "id": "ta7Njdzr5t7O"
   },
   "outputs": [],
   "source": [
    "dataset = ImageDataset(\n",
    "    img_dir='UTKFace/',\n",
    "    transform=v2.Compose([\n",
    "        v2.Resize((200, 200), antialias=True),\n",
    "        #v2.ToImage(),\n",
    "        v2.ToTensor(),\n",
    "        v2.ToDtype(torch.float, scale=True),\n",
    "        v2.Normalize(mean=[0.485, 0.456, 0.406], std=[0.229, 0.224, 0.225])\n",
    "    ]),\n",
    "    target_transform=v2.Compose([\n",
    "        torch.tensor,\n",
    "        v2.ToDtype(torch.long)\n",
    "    ])\n",
    ")"
   ]
  },
  {
   "cell_type": "code",
   "execution_count": 38,
   "metadata": {
    "colab": {
     "base_uri": "https://localhost:8080/"
    },
    "id": "RJaXU8Fv59IU",
    "outputId": "5d13b305-9736-44bf-d2ba-1ba2bab2c8bd"
   },
   "outputs": [
    {
     "data": {
      "text/plain": [
       "(tensor([[[-0.8164, -0.7993, -0.7822,  ..., -0.1999,  0.0741,  0.2453],\n",
       "          [-0.8164, -0.7993, -0.7822,  ..., -0.2513,  0.0056,  0.1597],\n",
       "          [-0.8164, -0.7993, -0.7822,  ..., -0.3027, -0.0801,  0.0569],\n",
       "          ...,\n",
       "          [-1.4843, -1.4843, -1.4843,  ..., -1.0390, -1.0390, -1.0390],\n",
       "          [-1.4672, -1.4672, -1.4843,  ..., -1.0390, -1.0390, -1.0390],\n",
       "          [-1.4672, -1.4672, -1.4672,  ..., -1.0390, -1.0390, -1.0390]],\n",
       " \n",
       "         [[-0.6527, -0.6352, -0.6176,  ..., -0.1450,  0.1352,  0.3102],\n",
       "          [-0.6527, -0.6352, -0.6176,  ..., -0.1975,  0.0651,  0.2227],\n",
       "          [-0.6527, -0.6352, -0.6176,  ..., -0.2850, -0.0574,  0.0826],\n",
       "          ...,\n",
       "          [-1.2304, -1.2304, -1.2304,  ..., -0.7752, -0.7752, -0.7752],\n",
       "          [-1.2129, -1.2129, -1.2304,  ..., -0.7752, -0.7752, -0.7752],\n",
       "          [-1.2129, -1.2129, -1.2129,  ..., -0.7752, -0.7752, -0.7752]],\n",
       " \n",
       "         [[-0.5495, -0.5321, -0.5147,  ..., -0.1312,  0.1651,  0.3393],\n",
       "          [-0.5495, -0.5321, -0.5147,  ..., -0.1835,  0.0953,  0.2522],\n",
       "          [-0.5495, -0.5321, -0.5147,  ..., -0.2707, -0.0441,  0.0953],\n",
       "          ...,\n",
       "          [-1.0201, -1.0201, -1.0201,  ..., -0.5670, -0.5670, -0.5670],\n",
       "          [-1.0027, -1.0027, -1.0201,  ..., -0.5670, -0.5670, -0.5670],\n",
       "          [-1.0027, -1.0027, -1.0027,  ..., -0.5670, -0.5670, -0.5670]]]),\n",
       " tensor(68),\n",
       " tensor(0))"
      ]
     },
     "execution_count": 38,
     "metadata": {},
     "output_type": "execute_result"
    }
   ],
   "source": [
    "dataset[0]"
   ]
  },
  {
   "cell_type": "code",
   "execution_count": 41,
   "metadata": {
    "colab": {
     "base_uri": "https://localhost:8080/"
    },
    "id": "jmN-19Um9Vsh",
    "outputId": "674cd660-0f28-4298-f19e-aa6539264f9c"
   },
   "outputs": [
    {
     "data": {
      "text/plain": [
       "array([ 5096, 19586,  9835, ...,   860, 15795, 23654])"
      ]
     },
     "execution_count": 41,
     "metadata": {},
     "output_type": "execute_result"
    }
   ],
   "source": [
    "train_data, test_data = train_test_split(np.arange(len(data)), test_size=0.2, random_state=42)\n",
    "train_data"
   ]
  },
  {
   "cell_type": "code",
   "execution_count": 42,
   "metadata": {
    "colab": {
     "base_uri": "https://localhost:8080/"
    },
    "id": "DFz78h4vCU5f",
    "outputId": "db111d44-316c-4b8e-f20f-eddd0fbb8757"
   },
   "outputs": [
    {
     "data": {
      "text/plain": [
       "<torch.utils.data.dataset.Subset at 0x7c603eb738b0>"
      ]
     },
     "execution_count": 42,
     "metadata": {},
     "output_type": "execute_result"
    }
   ],
   "source": [
    "train_data = Subset(dataset, train_data)\n",
    "test_data = Subset(dataset, test_data)\n",
    "test_data"
   ]
  },
  {
   "cell_type": "code",
   "execution_count": 43,
   "metadata": {
    "id": "Z4mz54a0CccJ"
   },
   "outputs": [],
   "source": [
    "batch_size = 64\n",
    "train_dataloader = DataLoader(train_data, batch_size=batch_size, shuffle=True)\n",
    "test_dataloader = DataLoader(test_data, batch_size=batch_size, shuffle=False)"
   ]
  }
 ],
 "metadata": {
  "colab": {
   "provenance": []
  },
  "kernelspec": {
   "display_name": "Python 3 (ipykernel)",
   "language": "python",
   "name": "python3"
  },
  "language_info": {
   "codemirror_mode": {
    "name": "ipython",
    "version": 3
   },
   "file_extension": ".py",
   "mimetype": "text/x-python",
   "name": "python",
   "nbconvert_exporter": "python",
   "pygments_lexer": "ipython3",
   "version": "3.11.5"
  }
 },
 "nbformat": 4,
 "nbformat_minor": 4
}
